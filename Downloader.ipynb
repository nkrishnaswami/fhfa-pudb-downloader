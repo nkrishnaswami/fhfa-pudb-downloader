{
 "cells": [
  {
   "cell_type": "code",
   "execution_count": null,
   "metadata": {},
   "outputs": [],
   "source": [
    "sf_url = 'https://www.fhfa.gov/DataTools/Downloads/Pages/Single-Family-Census-Tract-File.aspx'\n",
    "mf_url = 'https://www.fhfa.gov/DataTools/Downloads/Pages/Multi-Family-Census-Tract-File.aspx'"
   ]
  },
  {
   "cell_type": "code",
   "execution_count": null,
   "metadata": {},
   "outputs": [],
   "source": [
    "import os.path\n",
    "from requests_html import HTMLSession"
   ]
  },
  {
   "cell_type": "code",
   "execution_count": null,
   "metadata": {},
   "outputs": [],
   "source": [
    "s = HTMLSession()"
   ]
  },
  {
   "cell_type": "code",
   "execution_count": null,
   "metadata": {},
   "outputs": [],
   "source": [
    "r = s.get(sf_url)\n",
    "r.raise_for_status()"
   ]
  },
  {
   "cell_type": "code",
   "execution_count": null,
   "metadata": {},
   "outputs": [],
   "source": [
    "paths = list(sorted(filter(lambda x: \n",
    "                           not x.find('GSE') >= 0 and (x.endswith('zip') or x.endswith('pdf')),\n",
    "                           r.html.links)))"
   ]
  },
  {
   "cell_type": "code",
   "execution_count": null,
   "metadata": {},
   "outputs": [],
   "source": [
    "bn=os.path.basename\n",
    "for path in paths:\n",
    "    r = s.get('https://www.fhfa.gov' + path)\n",
    "    r.raise_for_status()\n",
    "    with open(bn(path), 'wb') as out:\n",
    "        out.write(r.content)"
   ]
  },
  {
   "cell_type": "code",
   "execution_count": null,
   "metadata": {},
   "outputs": [],
   "source": [
    "r = s.get(mf_url)\n",
    "r.raise_for_status()"
   ]
  },
  {
   "cell_type": "code",
   "execution_count": null,
   "metadata": {},
   "outputs": [],
   "source": [
    "paths = list(sorted(filter(lambda x: \n",
    "                           not x.find('GSE') >= 0 and (x.endswith('zip') or x.endswith('pdf')),\n",
    "                           r.html.links)))"
   ]
  },
  {
   "cell_type": "code",
   "execution_count": null,
   "metadata": {},
   "outputs": [],
   "source": [
    "bn=os.path.basename\n",
    "for path in paths:\n",
    "    r = s.get('https://www.fhfa.gov' + path)\n",
    "    r.raise_for_status()\n",
    "    with open(bn(path), 'wb') as out:\n",
    "        out.write(r.content)"
   ]
  },
  {
   "cell_type": "markdown",
   "metadata": {},
   "source": [
    "Next we can extract the data dictionaries from the PDF files with\n",
    "```bash\n",
    "for i in 20*pdf; do\n",
    "    java -jar s:/programs/x64/Anaconda3/Lib/site-packages/tabula/tabula-1.0.1-jar-with-dependencies.jar $i -p all -l | \\\n",
    "    tr '\\222' \"'\" | tr '\\r' ' ' > ${i%pdf}csv &\n",
    "done\n",
    "wait\n",
    "```"
   ]
  }
 ],
 "metadata": {
  "language_info": {
   "name": "python",
   "pygments_lexer": "ipython3"
  }
 },
 "nbformat": 4,
 "nbformat_minor": 2
}
